version https://git-lfs.github.com/spec/v1
oid sha256:f5e16ac52224c11dc28a39f39e5224a8d6100dce41783256f179fb423249bef4
size 12421
